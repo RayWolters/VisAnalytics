{
 "cells": [
  {
   "cell_type": "code",
   "execution_count": 42,
   "metadata": {},
   "outputs": [
    {
     "name": "stdout",
     "output_type": "stream",
     "text": [
      "2014-01-06\n",
      "2014-01-07\n",
      "2014-01-08\n",
      "2014-01-09\n",
      "2014-01-10\n",
      "2014-01-13\n",
      "2014-01-14\n",
      "2014-01-15\n",
      "2014-01-16\n",
      "2014-01-17\n",
      "Number of days:  10\n"
     ]
    }
   ],
   "source": [
    "import pandas as pd\n",
    "filepath_main = 'C:/Users/20183046/Documents/MASTER DS&AI/YEAR_1/Q3/2AMV10/3. Disappearance at GAStech/data/data/data/'\n",
    "df = pd.read_csv(filepath_main + 'email headers.csv', encoding='cp1252')\n",
    "df.Date = pd.to_datetime(df.Date)\n",
    "df.head()\n",
    "\n",
    "dffrom = list(df.From)\n",
    "dfto = list(df.To)\n",
    "dftone = []\n",
    "for row in dfto:\n",
    "    dftone.append(row.split(', '))\n",
    "df = pd.DataFrame({ 'from': dffrom, 'to':dftone, 'date': df.Date, 'subject':df.Subject})\n",
    "\n",
    "dates_days = []\n",
    "for row in list(df.date):\n",
    "    dates_days.append(row.date())\n",
    "df['days'] = dates_days\n",
    "\n",
    "data = df.values.tolist()\n",
    "dicdat = {}\n",
    "for row in data:\n",
    "    day = str(row[4])\n",
    "    if day in dicdat.keys():\n",
    "        dicdat[day].append(row)\n",
    "    else:\n",
    "        dicdat[day] = [row]\n",
    "\n",
    "for key in dicdat.keys():\n",
    "    print(key)\n",
    "print('Number of days: ', len(dicdat.keys()))\n",
    "days = dicdat.keys()"
   ]
  },
  {
   "cell_type": "code",
   "execution_count": 82,
   "metadata": {},
   "outputs": [],
   "source": [
    "\n",
    "def create_networkformat_perday(day:str):\n",
    "    data = dicdat[day]\n",
    "    df = pd.DataFrame(data, columns = ['from','to','date','subject', 'day'])\n",
    "    unique_froms = (set(list(df['from'])))\n",
    "    \n",
    "    dic = {}\n",
    "    for i in range(len(df['from'])):\n",
    "        k = df['from'][i]\n",
    "        if k in dic.keys():\n",
    "            dic[k] += df['to'][i]\n",
    "        else:\n",
    "            dic[k] = df['to'][i]\n",
    "\n",
    "    l = []\n",
    "    for name in unique_froms:\n",
    "        l += [[name,e] for e in set(dic[name])]\n",
    "\n",
    "    for row in l:\n",
    "        row.append(sum(value == row[1] for value in dic[row[0]]))\n",
    "\n",
    "    df_w = pd.DataFrame(l, columns=['source', 'target', 'weight'])\n",
    "    df_w = df_w[df_w['source'] != df_w['target']]\n",
    "    \n",
    "    df_w.to_csv('Data/Email_network_perday/data_{}.csv'.format(day),index=False)"
   ]
  },
  {
   "cell_type": "code",
   "execution_count": 83,
   "metadata": {},
   "outputs": [],
   "source": [
    "for day in days:\n",
    "    create_networkformat_perday(str(day))"
   ]
  }
 ],
 "metadata": {
  "kernelspec": {
   "display_name": "Python 3",
   "language": "python",
   "name": "python3"
  },
  "language_info": {
   "codemirror_mode": {
    "name": "ipython",
    "version": 3
   },
   "file_extension": ".py",
   "mimetype": "text/x-python",
   "name": "python",
   "nbconvert_exporter": "python",
   "pygments_lexer": "ipython3",
   "version": "3.7.3"
  }
 },
 "nbformat": 4,
 "nbformat_minor": 4
}
