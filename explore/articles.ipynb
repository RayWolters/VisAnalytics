{
 "cells": [
  {
   "cell_type": "code",
   "execution_count": 5,
   "metadata": {},
   "outputs": [],
   "source": [
    "import pandas as pd\n",
    "from simple_colors import *\n",
    "import os\n"
   ]
  },
  {
   "cell_type": "code",
   "execution_count": 50,
   "metadata": {},
   "outputs": [],
   "source": [
    "# TODO: Find out when the employees were kidnapped and who\n",
    "# TODO: check their resumes and emails\n",
    "# TODO: Isia Vann is the only employee associated with POK. Her resume says that she works in the security department. Check who she has been contacting with during the two weeks. \n",
    "# TODO: Check Isia Vann emails around the same date as the disappearance.\n",
    "\n",
    "# TODO: Dimensionality Reduction?? Plots?\n"
   ]
  },
  {
   "cell_type": "code",
   "execution_count": 39,
   "metadata": {},
   "outputs": [],
   "source": [
    "# defining paths for different data sources\n",
    "path = \"../data/articles/\"\n",
    "path_resumes = \"../data/resumes/txt versions/\"\n",
    "path_historical_records = \"../data/HistoricalDocuments/\""
   ]
  },
  {
   "cell_type": "code",
   "execution_count": 30,
   "metadata": {},
   "outputs": [],
   "source": [
    "# read employee records\n",
    "employee_records_df = pd.read_excel('../data/EmployeeRecords.xlsx')"
   ]
  },
  {
   "cell_type": "code",
   "execution_count": 47,
   "metadata": {},
   "outputs": [
    {
     "name": "stdout",
     "output_type": "stream",
     "text": [
      "['Mat Bramar', 'Anda Ribera', 'Rachel Pantanal', 'Linda Lagos', 'Ruscella Mies Haber', 'Carla Forluniau', 'Cornelia Lais', 'Marin Onda', 'Isande Borrasca', 'Axel Calzas', 'Kare Orilla', 'Elsa Orilla', 'Brand Tempestad', 'Lars Azada', 'Felix Balas', 'Lidelse Dedos', 'Birgitta Frente', 'Adra Nubarron', 'Gustav Cazar', 'Vira Frente', 'Willem Vasco-Pais', 'Sten Sanjorge Jr.', 'Ingrid Barranco', 'Ada Campo-Corrente', 'Orhan Strum', 'Bertrand Ovan', 'Emile Arpa', 'Varro Awelon', 'Dante Coginian', 'Albina Hafon', 'Benito Hawelon', 'Claudio Hawelon', 'Henk Mies', 'Valeria Morlun', 'Adan Morlun', 'Cecilia Morluniau', 'Irene Nant', 'Dylan Scozzese', 'Linnea Bergen', 'Lucas Alcazar', 'Isak Baza', 'Nils Calixto', 'Sven Flecha', 'Kanon Herrero', 'Varja Lagos', 'Stenig Fusil', 'Minke Mies', 'Hennie Osvaldo', 'Isia Vann', 'Edvard Vann', 'Felix Resumir', 'Loreto Bodrogi', 'Hideki Cocinaro', 'Inga Ferro']\n"
     ]
    }
   ],
   "source": [
    "firstnames = list(employee_records_df.FirstName)\n",
    "lastnames  = list(employee_records_df.LastName)\n",
    "\n",
    "fullnames = []\n",
    "for i in range(len(employee_records_df)):\n",
    "    fullnames.append(firstnames[i] + ' ' + lastnames[i])\n",
    "\n",
    "print(fullnames)"
   ]
  },
  {
   "cell_type": "code",
   "execution_count": 38,
   "metadata": {},
   "outputs": [],
   "source": [
    "#  Check all articles on words in #names and lastnames then print articles\n",
    "#  Conclusion: employee names do not appear in articles about pok\n",
    "\n",
    "names = ['POK', 'Protectors', 'pok']\n",
    "\n",
    "for num in range(845):\n",
    "    for row in names:\n",
    "        file = open(path + str(num) + \".txt\")\n",
    "        if row in file.read():     \n",
    "            for row2 in lastnames:\n",
    "                if row2 in file.read():\n",
    "                    print(row)\n",
    "                    print(open(path + str(num) + \".txt\").read())"
   ]
  },
  {
   "cell_type": "code",
   "execution_count": 48,
   "metadata": {},
   "outputs": [
    {
     "name": "stdout",
     "output_type": "stream",
     "text": [
      "Isia Vann\n",
      "5 year report clean.txt\n",
      "Isia Vann\n",
      "5 year report clean.txt\n"
     ]
    }
   ],
   "source": [
    "# Check historical documents on words and print employee names that also appear in that document\n",
    "def read_text_file(file_path):\n",
    "    with open(file_path, 'r', encoding='utf-8') as f:\n",
    "        read = f.read()\n",
    "        return read\n",
    "\n",
    "names = ['pok', 'POK', 'protectors']\n",
    "\n",
    "directory = \"../data/HistoricalDocuments/txt versions/\"\n",
    "for file in os.listdir(directory):\n",
    "    read = read_text_file(directory + file)\n",
    "    for word in names:\n",
    "        if word in read:\n",
    "            for name in fullnames:\n",
    "                if name in read:\n",
    "                    print(name)\n",
    "                    print(file)"
   ]
  },
  {
   "cell_type": "markdown",
   "metadata": {},
   "source": []
  },
  {
   "cell_type": "code",
   "execution_count": null,
   "metadata": {},
   "outputs": [],
   "source": []
  },
  {
   "cell_type": "code",
   "execution_count": 49,
   "metadata": {},
   "outputs": [
    {
     "name": "stdout",
     "output_type": "stream",
     "text": [
      "Isia Vann\n",
      "\n",
      "Security Officer, Abila, Kronos\n",
      "\n",
      "-   Responsible worker with strong decision making skills\n",
      "\n",
      "-   Team player\n",
      "\n",
      "-   Committed to ensuring the clientâ€™s security priorities are number\n",
      "    one.\n",
      "\n",
      "Experience\n",
      "\n",
      "GASTech - Kronos Security Officer 2007-Present\n",
      "\n",
      "-   Secures premises and personnel by patrolling property; monitoring\n",
      "    surveillance equipment; inspecting buildings, equipment, and access\n",
      "    points; permitting entry.\n",
      "\n",
      "-   Obtains help by sounding alarms.\n",
      "\n",
      "-   Prevents losses and damage by reporting irregularities; informing\n",
      "    violators of policy and procedures; restraining trespassers.\n",
      "\n",
      "-   Controls traffic by directing drivers.\n",
      "\n",
      "-   Completes reports by recording observations, information,\n",
      "    occurrences, and surveillance activities; interviewing witnesses;\n",
      "    obtaining signatures.\n",
      "\n",
      "Armed Forces of Kronos 2005-2007\n",
      "\n",
      "Education\n",
      "\n",
      "Abila Community College\n",
      "\n",
      "Associates Degree â€“ Basic Studies GPA 3.4 2003-2005\n",
      "\n"
     ]
    }
   ],
   "source": [
    "# print resumes that contain #names\n",
    "def read_text_file(file_path):\n",
    "    with open(file_path, 'r') as f:\n",
    "        read = f.read()\n",
    "        return read\n",
    "\n",
    "names = ['Isia Vann']\n",
    "\n",
    "directory = \"../data/resumes/txt versions/\"\n",
    "for file in os.listdir(directory):\n",
    "    read = read_text_file(directory + file)\n",
    "    for word in names:\n",
    "        if word in read:\n",
    "            print(read)"
   ]
  }
 ],
 "metadata": {
  "interpreter": {
   "hash": "1e2c22008571813aefb51c29582b05103b46f281f2958f543d5a015956fcbe5d"
  },
  "kernelspec": {
   "display_name": "Python 3.9.7 ('.venv': venv)",
   "language": "python",
   "name": "python3"
  },
  "language_info": {
   "codemirror_mode": {
    "name": "ipython",
    "version": 3
   },
   "file_extension": ".py",
   "mimetype": "text/x-python",
   "name": "python",
   "nbconvert_exporter": "python",
   "pygments_lexer": "ipython3",
   "version": "3.9.7"
  },
  "orig_nbformat": 4
 },
 "nbformat": 4,
 "nbformat_minor": 2
}
