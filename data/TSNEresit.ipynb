{
 "cells": [
  {
   "cell_type": "code",
   "execution_count": 10,
   "id": "3a38ba0c",
   "metadata": {},
   "outputs": [],
   "source": [
    "import nltk\n",
    "import glob, os\n",
    "import re\n",
    "import numpy as np\n",
    "import pandas as pd\n",
    "import matplotlib.pyplot as plt\n",
    "import seaborn as sns\n",
    "from nltk.sentiment.vader import SentimentIntensityAnalyzer\n",
    "from nltk.tokenize import RegexpTokenizer\n",
    "import string\n",
    "from nltk.stem import WordNetLemmatizer\n",
    "from nltk import pos_tag\n",
    "from nltk.corpus import stopwords\n",
    "from nltk.stem import PorterStemmer\n",
    "# from spellchecker import SpellChecker\n",
    "import matplotlib.pyplot as plt\n",
    "from nltk.text import Text\n",
    "import plotly.express as px\n",
    "from sklearn.feature_extraction.text import TfidfVectorizer\n",
    "from sklearn.decomposition import PCA\n",
    "from sklearn.manifold import TSNE\n",
    "from sklearn.cluster import KMeans"
   ]
  },
  {
   "cell_type": "code",
   "execution_count": 11,
   "id": "db53ad3e",
   "metadata": {},
   "outputs": [],
   "source": [
    "path = 'articles'\n",
    "os.chdir(path)"
   ]
  },
  {
   "cell_type": "code",
   "execution_count": 12,
   "id": "2f7497cc",
   "metadata": {},
   "outputs": [],
   "source": [
    "tokenizer = RegexpTokenizer(r'\\w+')\n",
    "sia = SentimentIntensityAnalyzer()\n",
    "stop_words = set(stopwords.words('english'))\n",
    "\n",
    "def remove_whitespace(text):\n",
    "    return  \" \".join(text.split())\n",
    "\n",
    "def lemmatization(text): \n",
    "    result=[]\n",
    "    wordnet = WordNetLemmatizer()\n",
    "    for token,tag in pos_tag(text):\n",
    "        pos=tag[0].lower()\n",
    "        \n",
    "        if pos not in ['a', 'r', 'n', 'v']:\n",
    "            pos='n'\n",
    "            \n",
    "        result.append(wordnet.lemmatize(token,pos))\n",
    "    \n",
    "    return result\n",
    "\n",
    "def stemming(text):\n",
    "    porter = PorterStemmer()\n",
    "    result=[]\n",
    "    for word in text:\n",
    "        result.append(porter.stem(word))\n",
    "    return result"
   ]
  },
  {
   "cell_type": "code",
   "execution_count": 13,
   "id": "155176eb",
   "metadata": {},
   "outputs": [],
   "source": [
    "# #preprocessing with tokenizer\n",
    "# def tok_prepro_docs(docs, nouns=False):\n",
    "#     newd = []\n",
    "#     newd_sw = []\n",
    "#     for i in docs:\n",
    "#         i = i.lower()\n",
    "#         i = remove_whitespace(i)\n",
    "#         date = re.findall(r'(\\d+/\\d+/\\d+)', i)\n",
    "#         date2 = re.findall(r'(\\d+\\s(?:jan|feb|mar|apr|may|jun|jul|aug|oct|sep|nov|dec|january|february|march|april|may|june|july|august|september|october|november|december|January|February|March|April|May|June|July|August|September|October|November|December)\\s\\d+)',\n",
    "#                            i)\n",
    "#         dates = (date + date2)\n",
    "#         for x in dates:\n",
    "#             i = i.replace(x, '')\n",
    "#         i = i.translate(str.maketrans('', '', string.punctuation)) \n",
    "#         i = i.replace('ÿ', '')\n",
    "#         i = tokenizer.tokenize(i)\n",
    "#         if nouns:\n",
    "#             tags = nltk.pos_tag(i)\n",
    "#             nouns = [word for word,pos in tags if (pos == 'NN' or pos == 'NNP' or pos == 'NNS' or pos == 'NNPS')]\n",
    "#            # i = spell_check(i)\n",
    "#             newd_sw.append(nouns)\n",
    "#             newi = [w for w in nouns if not w.lower() in stop_words]\n",
    "#         else:\n",
    "#             newd_sw.append(i)\n",
    "#             newi = [w for w in i if not w.lower() in stop_words]\n",
    "# #         newi = lemmatization(newi)\n",
    "# #         newi = stemming(newi)\n",
    "#         newd.append(newi)\n",
    "#     return newd\n",
    "\n",
    "# def no_tok_prepro_docs(docs):\n",
    "#     texts = []\n",
    "#     newd_sw = []\n",
    "#     for i in documents:\n",
    "#         i = i.lower()\n",
    "#         i = remove_whitespace(i)\n",
    "#         date = re.findall(r'(\\d+/\\d+/\\d+)', i)\n",
    "#         date2 = re.findall(r'(\\d+\\s(?:jan|feb|mar|apr|may|jun|jul|aug|oct|sep|nov|dec|january|february|march|april|may|june|july|august|september|october|november|december|January|February|March|April|May|June|July|August|September|October|November|December)\\s\\d+)',\n",
    "#                            i)\n",
    "#         dates = (date + date2)\n",
    "#         for x in dates:\n",
    "#             i = i.replace(x, '')\n",
    "#         texts.append(i)\n",
    "#     return texts"
   ]
  },
  {
   "cell_type": "code",
   "execution_count": 14,
   "id": "46400e6d",
   "metadata": {},
   "outputs": [],
   "source": [
    "# def create_heatmap(similarity, cmap = \"YlGnBu\"):\n",
    "#   df = pd.DataFrame(similarity)\n",
    "#   fig, ax = plt.subplots(figsize=(50,50))\n",
    "#   sns.heatmap(df, cmap=cmap)\n",
    "\n",
    "def sorted_alphanumeric(path):\n",
    "    convert = lambda text: int(text) if text.isdigit() else text.lower()\n",
    "    alphanum_key = lambda key: [ convert(c) for c in re.split('([0-9]+)', key) ] \n",
    "    return sorted(path, key=alphanum_key)\n",
    "\n",
    "# def create_tsne():\n",
    "#     \"\"\"\n",
    "#     This function will performs the TSNE dimensionality reduction on the articles, historical documents, resumes.\n",
    "#     \"\"\"\n",
    "#     ordered_dir = sorted_alphanumeric(os.listdir())\n",
    "#     documents = [open(f).read() for f in ordered_dir]\n",
    "#     tfidf = TfidfVectorizer().fit_transform(documents)\n",
    "#     pca = PCA(n_components=2)\n",
    "#     df = pca.fit_transform(tfidf.todense())\n",
    "#     return df\n",
    "\n",
    "\n",
    "# def plot_tsne_kmeans(k, df):\n",
    "#     \"\"\"\n",
    "#     This function will take the pca's as input and convert it to a k-means plot\n",
    "#     k  -> number of means (clusters)\n",
    "#     df -> dataframe containing pca values \n",
    "#     \"\"\"\n",
    "#     kmeans = KMeans(n_clusters= k)\n",
    "#     label = kmeans.fit_predict(df)\n",
    "#     dff = pd.DataFrame(df, columns=['tsne1', 'tsne2'])\n",
    "#     dff['label'] = [str(i) for i in label]\n",
    "#     dff['label2']= label\n",
    "#     dff['article'] = [i for i in range(845)]\n",
    "#     df = dff.sort_values(by='label2')\n",
    "#     df = df[['tsne1', 'tsne2', 'label', 'article']]\n",
    "#     return px.scatter(df, x='tsne1', y='tsne2', color=\"label\", hover_data=['article']), df\n",
    " \n",
    "# def make_bar(docs, size=20, flatten=True):\n",
    "#     if flatten:\n",
    "#         freq = nltk.FreqDist(make_flat(docs))\n",
    "#     else:\n",
    "#         freq = nltk.FreqDist(docs)\n",
    "#     testcloud = freq.most_common(size)\n",
    "#     freqdf = pd.DataFrame(testcloud, columns=['Word', 'Frequency'])\n",
    "#     sns.set(rc={'figure.figsize':(16,11)})\n",
    "#     sns.barplot(x='Frequency',y='Word', data=freqdf)\n",
    "\n",
    "# def make_wc(docs, size=20, flatten=True):\n",
    "#     if flatten:\n",
    "#         freq = nltk.FreqDist(make_flat(docs))\n",
    "#     else:\n",
    "#         freq = nltk.FreqDist(docs)\n",
    "#     testcloud = freq.most_common(size)\n",
    "#     freqdf = pd.DataFrame(testcloud, columns=['Word', 'Frequency'])\n",
    "#     dataa = freqdf.set_index('Word').to_dict()['Frequency']\n",
    "#     wc = WordCloud(background_color='white', width=800, height=400, max_words=200).generate_from_frequencies(dataa)\n",
    "#     plt.figure(figsize=(12,12))\n",
    "#     plt.imshow(wc, interpolation='bilinear')\n",
    "#     plt.axis('off')\n",
    "#     plt.show()\n",
    "\n",
    "# def make_flat(docs):\n",
    "#     doclist = tok_prepro_docs(docs)\n",
    "    \n",
    "#     flat_list = [item for sublist in doclist for item in sublist]\n",
    "    \n",
    "#     return flat_list"
   ]
  },
  {
   "cell_type": "code",
   "execution_count": 15,
   "id": "54a31f3f",
   "metadata": {},
   "outputs": [],
   "source": [
    "ordered_dir = sorted_alphanumeric(os.listdir())\n",
    "documents = [open(f).read() for f in ordered_dir]"
   ]
  },
  {
   "cell_type": "code",
   "execution_count": 16,
   "id": "a6387f65",
   "metadata": {},
   "outputs": [],
   "source": [
    "from nltk.tokenize import word_tokenize\n",
    "from nltk.corpus import stopwords\n",
    "from nltk.stem.snowball import SnowballStemmer\n",
    "stemmer = SnowballStemmer(\"german\")"
   ]
  },
  {
   "cell_type": "code",
   "execution_count": 17,
   "id": "ce589021",
   "metadata": {},
   "outputs": [],
   "source": [
    "def text_clean_tokenize(lines):\n",
    "    \n",
    "    review_lines = list()\n",
    "\n",
    "    # lines = article_data['Body'].values.astype(str).tolist()\n",
    "\n",
    "    for line in lines:\n",
    "        tokens = word_tokenize(line)\n",
    "        tokens = [w.lower() for w in tokens]\n",
    "        table = str.maketrans('','',string.punctuation)\n",
    "        stripped = [w.translate(table) for w in tokens]\n",
    "        # remove remaining tokens that are not alphabetic\n",
    "        words = [word for word in stripped if word.isalpha()]\n",
    "        stop_words = set(stopwords.words('german'))\n",
    "        words = [w for w in words if not w in stop_words]\n",
    "        words = [stemmer.stem(w) for w in words]\n",
    "\n",
    "        review_lines.append(words)\n",
    "    return(review_lines)\n",
    "    \n",
    "    \n",
    "review_lines = text_clean_tokenize(documents)"
   ]
  },
  {
   "cell_type": "code",
   "execution_count": 18,
   "id": "41915fce",
   "metadata": {},
   "outputs": [],
   "source": [
    "import gensim\n",
    "import spacy\n"
   ]
  },
  {
   "cell_type": "code",
   "execution_count": 22,
   "id": "e5e35734",
   "metadata": {},
   "outputs": [],
   "source": [
    "from gensim.models import Word2Vec"
   ]
  },
  {
   "cell_type": "code",
   "execution_count": 24,
   "id": "932ea775",
   "metadata": {},
   "outputs": [],
   "source": [
    "model =  Word2Vec(sentences = review_lines, vector_size=100, window=5, min_count=1, workers=4)\n"
   ]
  },
  {
   "cell_type": "code",
   "execution_count": 37,
   "id": "01e5eec8",
   "metadata": {},
   "outputs": [],
   "source": [
    "df_lst = []\n",
    "for i in range(len(documents)):\n",
    "    df_lst.append([i, documents[i]])\n",
    "article_data = pd.DataFrame(df_lst, columns=['ID_Article', 'Body'])"
   ]
  },
  {
   "cell_type": "code",
   "execution_count": 27,
   "id": "d8235413",
   "metadata": {},
   "outputs": [
    {
     "data": {
      "text/html": [
       "<div>\n",
       "<style scoped>\n",
       "    .dataframe tbody tr th:only-of-type {\n",
       "        vertical-align: middle;\n",
       "    }\n",
       "\n",
       "    .dataframe tbody tr th {\n",
       "        vertical-align: top;\n",
       "    }\n",
       "\n",
       "    .dataframe thead th {\n",
       "        text-align: right;\n",
       "    }\n",
       "</style>\n",
       "<table border=\"1\" class=\"dataframe\">\n",
       "  <thead>\n",
       "    <tr style=\"text-align: right;\">\n",
       "      <th></th>\n",
       "      <th>IDArticle</th>\n",
       "      <th>Body</th>\n",
       "    </tr>\n",
       "  </thead>\n",
       "  <tbody>\n",
       "    <tr>\n",
       "      <th>0</th>\n",
       "      <td>0</td>\n",
       "      <td>The Orb\\n\\n\\nBUMP OF PROTESTS IN ABILA IN RESP...</td>\n",
       "    </tr>\n",
       "    <tr>\n",
       "      <th>1</th>\n",
       "      <td>1</td>\n",
       "      <td>The Light of Truth\\n\\nENORMOUS IPO MAKES THE B...</td>\n",
       "    </tr>\n",
       "    <tr>\n",
       "      <th>2</th>\n",
       "      <td>2</td>\n",
       "      <td>Everyday News\\n\\nGlobal boxes of the charity o...</td>\n",
       "    </tr>\n",
       "    <tr>\n",
       "      <th>3</th>\n",
       "      <td>3</td>\n",
       "      <td>The Tulip\\n\\nPROMINENT MATTER, BURGERMATRIJZEN...</td>\n",
       "    </tr>\n",
       "    <tr>\n",
       "      <th>4</th>\n",
       "      <td>4</td>\n",
       "      <td>News Online Today\\n\\nELODIS, KRONOS:  HELP FRO...</td>\n",
       "    </tr>\n",
       "    <tr>\n",
       "      <th>...</th>\n",
       "      <td>...</td>\n",
       "      <td>...</td>\n",
       "    </tr>\n",
       "    <tr>\n",
       "      <th>840</th>\n",
       "      <td>840</td>\n",
       "      <td>The Orb\\n\\nTHE DEMONSTRATION ATTRACTS THOUSAND...</td>\n",
       "    </tr>\n",
       "    <tr>\n",
       "      <th>841</th>\n",
       "      <td>841</td>\n",
       "      <td>Centrum Sentinel\\nVOICES - a blog approximatel...</td>\n",
       "    </tr>\n",
       "    <tr>\n",
       "      <th>842</th>\n",
       "      <td>842</td>\n",
       "      <td>Homeland Illumination\\nVOICES - a blog about w...</td>\n",
       "    </tr>\n",
       "    <tr>\n",
       "      <th>843</th>\n",
       "      <td>843</td>\n",
       "      <td>The Wrap\\n\\nDEMONSTRATION ATTRACTS THOUSANDS I...</td>\n",
       "    </tr>\n",
       "    <tr>\n",
       "      <th>844</th>\n",
       "      <td>844</td>\n",
       "      <td>Centrum Sentinel\\nVOICES - a blog approximatel...</td>\n",
       "    </tr>\n",
       "  </tbody>\n",
       "</table>\n",
       "<p>845 rows × 2 columns</p>\n",
       "</div>"
      ],
      "text/plain": [
       "     IDArticle                                               Body\n",
       "0            0  The Orb\\n\\n\\nBUMP OF PROTESTS IN ABILA IN RESP...\n",
       "1            1  The Light of Truth\\n\\nENORMOUS IPO MAKES THE B...\n",
       "2            2  Everyday News\\n\\nGlobal boxes of the charity o...\n",
       "3            3  The Tulip\\n\\nPROMINENT MATTER, BURGERMATRIJZEN...\n",
       "4            4  News Online Today\\n\\nELODIS, KRONOS:  HELP FRO...\n",
       "..         ...                                                ...\n",
       "840        840  The Orb\\n\\nTHE DEMONSTRATION ATTRACTS THOUSAND...\n",
       "841        841  Centrum Sentinel\\nVOICES - a blog approximatel...\n",
       "842        842  Homeland Illumination\\nVOICES - a blog about w...\n",
       "843        843  The Wrap\\n\\nDEMONSTRATION ATTRACTS THOUSANDS I...\n",
       "844        844  Centrum Sentinel\\nVOICES - a blog approximatel...\n",
       "\n",
       "[845 rows x 2 columns]"
      ]
     },
     "execution_count": 27,
     "metadata": {},
     "output_type": "execute_result"
    }
   ],
   "source": [
    "article_data"
   ]
  },
  {
   "cell_type": "code",
   "execution_count": 32,
   "id": "fcfe3f87",
   "metadata": {},
   "outputs": [],
   "source": [
    "# ! python -m spacy download de_core_news_sm"
   ]
  },
  {
   "cell_type": "code",
   "execution_count": 33,
   "id": "45afcd6c",
   "metadata": {},
   "outputs": [],
   "source": [
    "import de_core_news_sm\n",
    "nlp = de_core_news_sm.load()"
   ]
  },
  {
   "cell_type": "code",
   "execution_count": 39,
   "id": "cb7d70a8",
   "metadata": {},
   "outputs": [
    {
     "name": "stderr",
     "output_type": "stream",
     "text": [
      "C:\\Users\\20183046\\AppData\\Local\\Temp\\ipykernel_16892\\3255762914.py:12: FutureWarning: In a future version of pandas all arguments of DataFrame.drop except for the argument 'labels' will be keyword-only.\n",
      "  new_df = new_df.join(article_data.drop('Body', 1), how='left')\n"
     ]
    }
   ],
   "source": [
    "def tokenize(sent):\n",
    "    doc = nlp.tokenizer(sent)\n",
    "    return [token.lower_ for token in doc if not token.is_punct]\n",
    "\n",
    "new_df = (article_data['Body'].apply(tokenize).apply(pd.Series))\n",
    "\n",
    "new_df = new_df.stack()\n",
    "new_df = (new_df.reset_index(level=0)\n",
    "                .set_index('level_0')\n",
    "                .rename(columns={0: 'word'}))\n",
    "\n",
    "new_df = new_df.join(article_data.drop('Body', 1), how='left')\n",
    "\n",
    "new_df = new_df[['word','ID_Article']]\n",
    "word_list = list(model.wv.key_to_index)\n",
    "vectors = model.wv[word_list]\n",
    "vectors_df = pd.DataFrame(vectors)\n",
    "vectors_df['word'] = word_list\n",
    "merged_frame = pd.merge(vectors_df, new_df, on='word')\n",
    "merged_frame_rolled_up = merged_frame.drop('word',axis=1).groupby(['ID_Article']).mean().reset_index()\n",
    "del merged_frame\n",
    "del new_df\n",
    "del vectors"
   ]
  },
  {
   "cell_type": "code",
   "execution_count": 41,
   "id": "fad1989a",
   "metadata": {},
   "outputs": [
    {
     "name": "stderr",
     "output_type": "stream",
     "text": [
      "c:\\Users\\20183046\\Anaconda3\\lib\\site-packages\\sklearn\\cluster\\_kmeans.py:1036: UserWarning: KMeans is known to have a memory leak on Windows with MKL, when there are less chunks than available threads. You can avoid it by setting the environment variable OMP_NUM_THREADS=4.\n",
      "  warnings.warn(\n"
     ]
    },
    {
     "name": "stdout",
     "output_type": "stream",
     "text": [
      "6\n"
     ]
    }
   ],
   "source": [
    "from sklearn.decomposition import PCA\n",
    "from sklearn.manifold import TSNE\n",
    "data_subset = merged_frame_rolled_up.drop(['ID_Article'],axis=1).values\n",
    "\n",
    "from sklearn.cluster import KMeans\n",
    "number_of_clusters = range(1,20,5)\n",
    "kmeans = [KMeans(n_clusters=i,max_iter=5,init='k-means++') for i in number_of_clusters]\n",
    "score = [kmeans[i].fit(data_subset).inertia_ for i in range(len(kmeans))]\n",
    "tmp =0\n",
    "best_k = 0\n",
    "value_all = 0\n",
    "diff1 = []\n",
    "for i in range(len(score)-1):\n",
    "    \n",
    "    scores = (score[i] - score[i+1])\n",
    "    diff1.append(scores)\n",
    "    \n",
    "diff2=[]\n",
    "for i in range(len(diff1)-1):\n",
    "    difference = diff1[i] - diff1[i+1]\n",
    "    diff2.append(difference)\n",
    "diff2.insert(0, 0) \n",
    "diff3 = [i-j for i,j in zip(diff2,diff1)]\n",
    "\n",
    "m = max(i for i in diff3)\n",
    "best_k = number_of_clusters[diff3.index(m)]\n",
    "print(best_k)\n",
    "\n",
    "kmeans = KMeans(n_clusters=best_k,init='k-means++',max_iter=5).fit(data_subset)\n",
    "labels = kmeans.labels_\n",
    "merged_frame_rolled_up['labels'] = labels"
   ]
  },
  {
   "cell_type": "code",
   "execution_count": 42,
   "id": "67d895d3",
   "metadata": {},
   "outputs": [
    {
     "name": "stderr",
     "output_type": "stream",
     "text": [
      "c:\\Users\\20183046\\Anaconda3\\lib\\site-packages\\sklearn\\manifold\\_t_sne.py:790: FutureWarning: The default learning rate in TSNE will change from 200.0 to 'auto' in 1.2.\n",
      "  warnings.warn(\n",
      "c:\\Users\\20183046\\Anaconda3\\lib\\site-packages\\sklearn\\manifold\\_t_sne.py:982: FutureWarning: The PCA initialization in TSNE will change to have the standard deviation of PC1 equal to 1e-4 in 1.2. This will ensure better convergence.\n",
      "  warnings.warn(\n"
     ]
    },
    {
     "name": "stdout",
     "output_type": "stream",
     "text": [
      "[t-SNE] Computing 31 nearest neighbors...\n",
      "[t-SNE] Indexed 845 samples in 0.000s...\n",
      "[t-SNE] Computed neighbors for 845 samples in 0.049s...\n",
      "[t-SNE] Computed conditional probabilities for sample 845 / 845\n",
      "[t-SNE] Mean sigma: 0.095504\n",
      "[t-SNE] KL divergence after 250 iterations with early exaggeration: 74.295212\n",
      "[t-SNE] KL divergence after 3000 iterations: 0.880511\n"
     ]
    },
    {
     "data": {
      "text/plain": [
       "<AxesSubplot:xlabel='tsne-2d-one', ylabel='tsne-2d-two'>"
      ]
     },
     "execution_count": 42,
     "metadata": {},
     "output_type": "execute_result"
    },
    {
     "data": {
      "image/png": "[encoded data removed]",
      "text/plain": [
       "<Figure size 1152x720 with 1 Axes>"
      ]
     },
     "metadata": {
      "needs_background": "light"
     },
     "output_type": "display_data"
    }
   ],
   "source": [
    "tsne = TSNE(n_components=2, verbose=1, perplexity=10, n_iter=3000,init='pca',random_state=42)\n",
    "tsne_results = tsne.fit_transform(data_subset)\n",
    "%matplotlib inline\n",
    "import matplotlib.pyplot as plt\n",
    "from mpl_toolkits.mplot3d import Axes3D\n",
    "import seaborn as sns\n",
    "\n",
    "merged_frame_rolled_up['tsne-2d-one'] = tsne_results[:,0]\n",
    "merged_frame_rolled_up['tsne-2d-two'] = tsne_results[:,1]\n",
    "plt.figure(figsize=(16,10))\n",
    "sns.scatterplot(\n",
    "    x=\"tsne-2d-one\", y=\"tsne-2d-two\",\n",
    "    hue = 'labels',\n",
    "    palette=sns.color_palette(\"hls\", len(merged_frame_rolled_up['labels'].unique())),\n",
    "    data=merged_frame_rolled_up,\n",
    "    legend=\"full\",\n",
    "    alpha=0.3\n",
    ")"
   ]
  },
  {
   "cell_type": "code",
   "execution_count": 47,
   "id": "418aa678",
   "metadata": {},
   "outputs": [
    {
     "data": {
      "text/html": [
       "\n",
       "    <div class=\"bk-root\">\n",
       "        <a href=\"https://bokeh.org\" target=\"_blank\" class=\"bk-logo bk-logo-small bk-logo-notebook\"></a>\n",
       "        <span id=\"1214\">Loading BokehJS ...</span>\n",
       "    </div>"
      ]
     },
     "metadata": {},
     "output_type": "display_data"
    },
    {
     "data": {
      "application/javascript": "\n(function(root) {\n  function now() {\n    return new Date();\n  }\n\n  const force = true;\n\n  if (typeof root._bokeh_onload_callbacks === \"undefined\" || force === true) {\n    root._bokeh_onload_callbacks = [];\n    root._bokeh_is_loading = undefined;\n  }\n\n  const JS_MIME_TYPE = 'application/javascript';\n  const HTML_MIME_TYPE = 'text/html';\n  const EXEC_MIME_TYPE = 'application/vnd.bokehjs_exec.v0+json';\n  const CLASS_NAME = 'output_bokeh rendered_html';\n\n  /**\n   * Render data to the DOM node\n   */\n  function render(props, node) {\n    const script = document.createElement(\"script\");\n    node.appendChild(script);\n  }\n\n  /**\n   * Handle when an output is cleared or removed\n   */\n  function handleClearOutput(event, handle) {\n    const cell = handle.cell;\n\n    const id = cell.output_area._bokeh_element_id;\n    const server_id = cell.output_area._bokeh_server_id;\n    // Clean up Bokeh references\n    if (id != null && id in Bokeh.index) {\n      Bokeh.index[id].model.document.clear();\n      delete Bokeh.index[id];\n    }\n\n    if (server_id !== undefined) {\n      // Clean up Bokeh references\n      const cmd_clean = \"from bokeh.io.state import curstate; print(curstate().uuid_to_server['\" + server_id + \"'].get_sessions()[0].document.roots[0]._id)\";\n      cell.notebook.kernel.execute(cmd_clean, {\n        iopub: {\n          output: function(msg) {\n            const id = msg.content.text.trim();\n            if (id in Bokeh.index) {\n              Bokeh.index[id].model.document.clear();\n              delete Bokeh.index[id];\n            }\n          }\n        }\n      });\n      // Destroy server and session\n      const cmd_destroy = \"import bokeh.io.notebook as ion; ion.destroy_server('\" + server_id + \"')\";\n      cell.notebook.kernel.execute(cmd_destroy);\n    }\n  }\n\n  /**\n   * Handle when a new output is added\n   */\n  function handleAddOutput(event, handle) {\n    const output_area = handle.output_area;\n    const output = handle.output;\n\n    // limit handleAddOutput to display_data with EXEC_MIME_TYPE content only\n    if ((output.output_type != \"display_data\") || (!Object.prototype.hasOwnProperty.call(output.data, EXEC_MIME_TYPE))) {\n      return\n    }\n\n    const toinsert = output_area.element.find(\".\" + CLASS_NAME.split(' ')[0]);\n\n    if (output.metadata[EXEC_MIME_TYPE][\"id\"] !== undefined) {\n      toinsert[toinsert.length - 1].firstChild.textContent = output.data[JS_MIME_TYPE];\n      // store reference to embed id on output_area\n      output_area._bokeh_element_id = output.metadata[EXEC_MIME_TYPE][\"id\"];\n    }\n    if (output.metadata[EXEC_MIME_TYPE][\"server_id\"] !== undefined) {\n      const bk_div = document.createElement(\"div\");\n      bk_div.innerHTML = output.data[HTML_MIME_TYPE];\n      const script_attrs = bk_div.children[0].attributes;\n      for (let i = 0; i < script_attrs.length; i++) {\n        toinsert[toinsert.length - 1].firstChild.setAttribute(script_attrs[i].name, script_attrs[i].value);\n        toinsert[toinsert.length - 1].firstChild.textContent = bk_div.children[0].textContent\n      }\n      // store reference to server id on output_area\n      output_area._bokeh_server_id = output.metadata[EXEC_MIME_TYPE][\"server_id\"];\n    }\n  }\n\n  function register_renderer(events, OutputArea) {\n\n    function append_mime(data, metadata, element) {\n      // create a DOM node to render to\n      const toinsert = this.create_output_subarea(\n        metadata,\n        CLASS_NAME,\n        EXEC_MIME_TYPE\n      );\n      this.keyboard_manager.register_events(toinsert);\n      // Render to node\n      const props = {data: data, metadata: metadata[EXEC_MIME_TYPE]};\n      render(props, toinsert[toinsert.length - 1]);\n      element.append(toinsert);\n      return toinsert\n    }\n\n    /* Handle when an output is cleared or removed */\n    events.on('clear_output.CodeCell', handleClearOutput);\n    events.on('delete.Cell', handleClearOutput);\n\n    /* Handle when a new output is added */\n    events.on('output_added.OutputArea', handleAddOutput);\n\n    /**\n     * Register the mime type and append_mime function with output_area\n     */\n    OutputArea.prototype.register_mime_type(EXEC_MIME_TYPE, append_mime, {\n      /* Is output safe? */\n      safe: true,\n      /* Index of renderer in `output_area.display_order` */\n      index: 0\n    });\n  }\n\n  // register the mime type if in Jupyter Notebook environment and previously unregistered\n  if (root.Jupyter !== undefined) {\n    const events = require('base/js/events');\n    const OutputArea = require('notebook/js/outputarea').OutputArea;\n\n    if (OutputArea.prototype.mime_types().indexOf(EXEC_MIME_TYPE) == -1) {\n      register_renderer(events, OutputArea);\n    }\n  }\n\n  \n  if (typeof (root._bokeh_timeout) === \"undefined\" || force === true) {\n    root._bokeh_timeout = Date.now() + 5000;\n    root._bokeh_failed_load = false;\n  }\n\n  const NB_LOAD_WARNING = {'data': {'text/html':\n     \"<div style='background-color: #fdd'>\\n\"+\n     \"<p>\\n\"+\n     \"BokehJS does not appear to have successfully loaded. If loading BokehJS from CDN, this \\n\"+\n     \"may be due to a slow or bad network connection. Possible fixes:\\n\"+\n     \"</p>\\n\"+\n     \"<ul>\\n\"+\n     \"<li>re-rerun `output_notebook()` to attempt to load from CDN again, or</li>\\n\"+\n     \"<li>use INLINE resources instead, as so:</li>\\n\"+\n     \"</ul>\\n\"+\n     \"<code>\\n\"+\n     \"from bokeh.resources import INLINE\\n\"+\n     \"output_notebook(resources=INLINE)\\n\"+\n     \"</code>\\n\"+\n     \"</div>\"}};\n\n  function display_loaded() {\n    const el = document.getElementById(\"1214\");\n    if (el != null) {\n      el.textContent = \"BokehJS is loading...\";\n    }\n    if (root.Bokeh !== undefined) {\n      if (el != null) {\n        el.textContent = \"BokehJS \" + root.Bokeh.version + \" successfully loaded.\";\n      }\n    } else if (Date.now() < root._bokeh_timeout) {\n      setTimeout(display_loaded, 100)\n    }\n  }\n\n\n  function run_callbacks() {\n    try {\n      root._bokeh_onload_callbacks.forEach(function(callback) {\n        if (callback != null)\n          callback();\n      });\n    } finally {\n      delete root._bokeh_onload_callbacks\n    }\n    console.debug(\"Bokeh: all callbacks have finished\");\n  }\n\n  function load_libs(css_urls, js_urls, callback) {\n    if (css_urls == null) css_urls = [];\n    if (js_urls == null) js_urls = [];\n\n    root._bokeh_onload_callbacks.push(callback);\n    if (root._bokeh_is_loading > 0) {\n      console.debug(\"Bokeh: BokehJS is being loaded, scheduling callback at\", now());\n      return null;\n    }\n    if (js_urls == null || js_urls.length === 0) {\n      run_callbacks();\n      return null;\n    }\n    console.debug(\"Bokeh: BokehJS not loaded, scheduling load and callback at\", now());\n    root._bokeh_is_loading = css_urls.length + js_urls.length;\n\n    function on_load() {\n      root._bokeh_is_loading--;\n      if (root._bokeh_is_loading === 0) {\n        console.debug(\"Bokeh: all BokehJS libraries/stylesheets loaded\");\n        run_callbacks()\n      }\n    }\n\n    function on_error(url) {\n      console.error(\"failed to load \" + url);\n    }\n\n    for (let i = 0; i < css_urls.length; i++) {\n      const url = css_urls[i];\n      const element = document.createElement(\"link\");\n      element.onload = on_load;\n      element.onerror = on_error.bind(null, url);\n      element.rel = \"stylesheet\";\n      element.type = \"text/css\";\n      element.href = url;\n      console.debug(\"Bokeh: injecting link tag for BokehJS stylesheet: \", url);\n      document.body.appendChild(element);\n    }\n\n    for (let i = 0; i < js_urls.length; i++) {\n      const url = js_urls[i];\n      const element = document.createElement('script');\n      element.onload = on_load;\n      element.onerror = on_error.bind(null, url);\n      element.async = false;\n      element.src = url;\n      console.debug(\"Bokeh: injecting script tag for BokehJS library: \", url);\n      document.head.appendChild(element);\n    }\n  };\n\n  function inject_raw_css(css) {\n    const element = document.createElement(\"style\");\n    element.appendChild(document.createTextNode(css));\n    document.body.appendChild(element);\n  }\n\n  \n  const js_urls = [\"https://cdn.bokeh.org/bokeh/release/bokeh-2.4.2.min.js\", \"https://cdn.bokeh.org/bokeh/release/bokeh-gl-2.4.2.min.js\", \"https://cdn.bokeh.org/bokeh/release/bokeh-widgets-2.4.2.min.js\", \"https://cdn.bokeh.org/bokeh/release/bokeh-tables-2.4.2.min.js\", \"https://cdn.bokeh.org/bokeh/release/bokeh-mathjax-2.4.2.min.js\"];\n  const css_urls = [];\n  \n\n  const inline_js = [\n    function(Bokeh) {\n      Bokeh.set_log_level(\"info\");\n    },\n    function(Bokeh) {\n    \n    \n    }\n  ];\n\n  function run_inline_js() {\n    \n    if (root.Bokeh !== undefined || force === true) {\n      \n    for (let i = 0; i < inline_js.length; i++) {\n      inline_js[i].call(root, root.Bokeh);\n    }\n    if (force === true) {\n        display_loaded();\n      }} else if (Date.now() < root._bokeh_timeout) {\n      setTimeout(run_inline_js, 100);\n    } else if (!root._bokeh_failed_load) {\n      console.log(\"Bokeh: BokehJS failed to load within specified timeout.\");\n      root._bokeh_failed_load = true;\n    } else if (force !== true) {\n      const cell = $(document.getElementById(\"1214\")).parents('.cell').data().cell;\n      cell.output_area.append_execute_result(NB_LOAD_WARNING)\n    }\n\n  }\n\n  if (root._bokeh_is_loading === 0) {\n    console.debug(\"Bokeh: BokehJS loaded, going straight to plotting\");\n    run_inline_js();\n  } else {\n    load_libs(css_urls, js_urls, function() {\n      console.debug(\"Bokeh: BokehJS plotting callback run at\", now());\n      run_inline_js();\n    });\n  }\n}(window));",
      "application/vnd.bokehjs_load.v0+json": ""
     },
     "metadata": {},
     "output_type": "display_data"
    },
    {
     "data": {
      "text/html": [
       "\n",
       "\n",
       "\n",
       "\n",
       "\n",
       "\n",
       "  <div class=\"bk-root\" id=\"2f395203-d445-46a1-beb0-a76d518aad36\" data-root-id=\"1218\"></div>\n"
      ]
     },
     "metadata": {},
     "output_type": "display_data"
    },
    {
     "data": {
      "application/javascript": "(function(root) {\n  function embed_document(root) {\n    \n  const docs_json = {\"be4e518a-a386-4473-93a0-3acdf58f81a4\":{\"defs\":[],\"roots\":{\"references\":[{\"attributes\":{\"below\":[{\"id\":\"1229\"}],\"center\":[{\"id\":\"1232\"},{\"id\":\"1236\"}],\"height\":1000,\"left\":[{\"id\":\"1233\"}],\"renderers\":[{\"id\":\"1252\"}],\"title\":{\"id\":\"1219\"},\"toolbar\":{\"id\":\"1242\"},\"width\":1000,\"x_range\":{\"id\":\"1221\"},\"x_scale\":{\"id\":\"1225\"},\"y_range\":{\"id\":\"1223\"},\"y_scale\":{\"id\":\"1227\"}},\"id\":\"1218\",\"subtype\":\"Figure\",\"type\":\"Plot\"},{\"attributes\":{\"coordinates\":null,\"formatter\":{\"id\":\"1279\"},\"group\":null,\"major_label_policy\":{\"id\":\"1280\"},\"ticker\":{\"id\":\"1230\"}},\"id\":\"1229\",\"type\":\"LinearAxis\"},{\"attributes\":{},\"id\":\"1280\",\"type\":\"AllLabels\"},{\"attributes\":{},\"id\":\"1221\",\"type\":\"DataRange1d\"},{\"attributes\":{},\"id\":\"1238\",\"type\":\"WheelZoomTool\"},{\"attributes\":{},\"id\":\"1281\",\"type\":\"UnionRenderers\"},{\"attributes\":{\"axis\":{\"id\":\"1233\"},\"coordinates\":null,\"dimension\":1,\"group\":null,\"ticker\":null},\"id\":\"1236\",\"type\":\"Grid\"},{\"attributes\":{\"callback\":null,\"tooltips\":[[\"Article:\",\"@titles\"]]},\"id\":\"1216\",\"type\":\"HoverTool\"},{\"attributes\":{},\"id\":\"1230\",\"type\":\"BasicTicker\"},{\"attributes\":{},\"id\":\"1234\",\"type\":\"BasicTicker\"},{\"attributes\":{\"bottom_units\":\"screen\",\"coordinates\":null,\"fill_alpha\":0.5,\"fill_color\":\"lightgrey\",\"group\":null,\"left_units\":\"screen\",\"level\":\"overlay\",\"line_alpha\":1.0,\"line_color\":\"black\",\"line_dash\":[4,4],\"line_width\":2,\"right_units\":\"screen\",\"syncable\":false,\"top_units\":\"screen\"},\"id\":\"1241\",\"type\":\"BoxAnnotation\"},{\"attributes\":{\"source\":{\"id\":\"1215\"}},\"id\":\"1253\",\"type\":\"CDSView\"},{\"attributes\":{},\"id\":\"1240\",\"type\":\"ResetTool\"},{\"attributes\":{},\"id\":\"1227\",\"type\":\"LinearScale\"},{\"attributes\":{},\"id\":\"1282\",\"type\":\"Selection\"},{\"attributes\":{\"fill_color\":{\"field\":\"desc\",\"transform\":{\"id\":\"1217\"}},\"line_alpha\":{\"value\":0.3},\"size\":{\"value\":5},\"x\":{\"field\":\"x\"},\"y\":{\"field\":\"y\"}},\"id\":\"1249\",\"type\":\"Scatter\"},{\"attributes\":{},\"id\":\"1276\",\"type\":\"BasicTickFormatter\"},{\"attributes\":{},\"id\":\"1279\",\"type\":\"BasicTickFormatter\"},{\"attributes\":{\"tools\":[{\"id\":\"1216\"},{\"id\":\"1237\"},{\"id\":\"1238\"},{\"id\":\"1239\"},{\"id\":\"1240\"}]},\"id\":\"1242\",\"type\":\"Toolbar\"},{\"attributes\":{\"axis\":{\"id\":\"1229\"},\"coordinates\":null,\"group\":null,\"ticker\":null},\"id\":\"1232\",\"type\":\"Grid\"},{\"attributes\":{},\"id\":\"1277\",\"type\":\"AllLabels\"},{\"attributes\":{\"data\":{\"desc\":{\"__ndarray__\":\"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\",\"dtype\":\"int32\",\"order\":\"little\",\"shape\":[845]},\"titles\":[0,1,2,3,4,5,6,7,8,9,10,11,12,13,14,15,16,17,18,19,20,21,22,23,24,25,26,27,28,29,30,31,32,33,34,35,36,37,38,39,40,41,42,43,44,45,46,47,48,49,50,51,52,53,54,55,56,57,58,59,60,61,62,63,64,65,66,67,68,69,70,71,72,73,74,75,76,77,78,79,80,81,82,83,84,85,86,87,88,89,90,91,92,93,94,95,96,97,98,99,100,101,102,103,104,105,106,107,108,109,110,111,112,113,114,115,116,117,118,119,120,121,122,123,124,125,126,127,128,129,130,131,132,133,134,135,136,137,138,139,140,141,142,143,144,145,146,147,148,149,150,151,152,153,154,155,156,157,158,159,160,161,162,163,164,165,166,167,168,169,170,171,172,173,174,175,176,177,178,179,180,181,182,183,184,185,186,187,188,189,190,191,192,193,194,195,196,197,198,199,200,201,202,203,204,205,206,207,208,209,210,211,212,213,214,215,216,217,218,219,220,221,222,223,224,225,226,227,228,229,230,231,232,233,234,235,236,237,238,239,240,241,242,243,244,245,246,247,248,249,250,251,252,253,254,255,256,257,258,259,260,261,262,263,264,265,266,267,268,269,270,271,272,273,274,275,276,277,278,279,280,281,282,283,284,285,286,287,288,289,290,291,292,293,294,295,296,297,298,299,300,301,302,303,304,305,306,307,308,309,310,311,312,313,314,315,316,317,318,319,320,321,322,323,324,325,326,327,328,329,330,331,332,333,334,335,336,337,338,339,340,341,342,343,344,345,346,347,348,349,350,351,352,353,354,355,356,357,358,359,360,361,362,363,364,365,366,367,368,369,370,371,372,373,374,375,376,377,378,379,380,381,382,383,384,385,386,387,388,389,390,391,392,393,394,395,396,397,398,399,400,401,402,403,404,405,406,407,408,409,410,411,412,413,414,415,416,417,418,419,420,421,422,423,424,425,426,427,428,429,430,431,432,433,434,435,436,437,438,439,440,441,442,443,444,445,446,447,448,449,450,451,452,453,454,455,456,457,458,459,460,461,462,463,464,465,466,467,468,469,470,471,472,473,474,475,476,477,478,479,480,481,482,483,484,485,486,487,488,489,490,491,492,493,494,495,496,497,498,499,500,501,502,503,504,505,506,507,508,509,510,511,512,513,514,515,516,517,518,519,520,521,522,523,524,525,526,527,528,529,530,531,532,533,534,535,536,537,538,539,540,541,542,543,544,545,546,547,548,549,550,551,552,553,554,555,556,557,558,559,560,561,562,563,564,565,566,567,568,569,570,571,572,573,574,575,576,577,578,579,580,581,582,583,584,585,586,587,588,589,590,591,592,593,594,595,596,597,598,599,600,601,602,603,604,605,606,607,608,609,610,611,612,613,614,615,616,617,618,619,620,621,622,623,624,625,626,627,628,629,630,631,632,633,634,635,636,637,638,639,640,641,642,643,644,645,646,647,648,649,650,651,652,653,654,655,656,657,658,659,660,661,662,663,664,665,666,667,668,669,670,671,672,673,674,675,676,677,678,679,680,681,682,683,684,685,686,687,688,689,690,691,692,693,694,695,696,697,698,699,700,701,702,703,704,705,706,707,708,709,710,711,712,713,714,715,716,717,718,719,720,721,722,723,724,725,726,727,728,729,730,731,732,733,734,735,736,737,738,739,740,741,742,743,744,745,746,747,748,749,750,751,752,753,754,755,756,757,758,759,760,761,762,763,764,765,766,767,768,769,770,771,772,773,774,775,776,777,778,779,780,781,782,783,784,785,786,787,788,789,790,791,792,793,794,795,796,797,798,799,800,801,802,803,804,805,806,807,808,809,810,811,812,813,814,815,816,817,818,819,820,821,822,823,824,825,826,827,828,829,830,831,832,833,834,835,836,837,838,839,840,841,842,843,844],\"x\":{\"__ndarray__\":\"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\",\"dtype\":\"float32\",\"order\":\"little\",\"shape\":[845]},\"y\":{\"__ndarray__\":\"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\",\"dtype\":\"float32\",\"order\":\"little\",\"shape\":[845]}},\"selected\":{\"id\":\"1282\"},\"selection_policy\":{\"id\":\"1281\"}},\"id\":\"1215\",\"type\":\"ColumnDataSource\"},{\"attributes\":{},\"id\":\"1225\",\"type\":\"LinearScale\"},{\"attributes\":{\"coordinates\":null,\"data_source\":{\"id\":\"1215\"},\"glyph\":{\"id\":\"1249\"},\"group\":null,\"hover_glyph\":null,\"muted_glyph\":{\"id\":\"1251\"},\"nonselection_glyph\":{\"id\":\"1250\"},\"view\":{\"id\":\"1253\"}},\"id\":\"1252\",\"type\":\"GlyphRenderer\"},{\"attributes\":{},\"id\":\"1237\",\"type\":\"PanTool\"},{\"attributes\":{\"overlay\":{\"id\":\"1241\"}},\"id\":\"1239\",\"type\":\"BoxZoomTool\"},{\"attributes\":{\"fill_alpha\":{\"value\":0.2},\"fill_color\":{\"field\":\"desc\",\"transform\":{\"id\":\"1217\"}},\"hatch_alpha\":{\"value\":0.2},\"line_alpha\":{\"value\":0.2},\"size\":{\"value\":5},\"x\":{\"field\":\"x\"},\"y\":{\"field\":\"y\"}},\"id\":\"1251\",\"type\":\"Scatter\"},{\"attributes\":{\"coordinates\":null,\"group\":null,\"text\":\"Clustering German Articles Based on K Means and Word2Vec\"},\"id\":\"1219\",\"type\":\"Title\"},{\"attributes\":{\"high\":5,\"low\":0,\"palette\":[\"#1f77b4\",\"#aec7e8\",\"#ff7f0e\",\"#ffbb78\",\"#2ca02c\",\"#98df8a\"]},\"id\":\"1217\",\"type\":\"LinearColorMapper\"},{\"attributes\":{\"fill_alpha\":{\"value\":0.1},\"fill_color\":{\"field\":\"desc\",\"transform\":{\"id\":\"1217\"}},\"hatch_alpha\":{\"value\":0.1},\"line_alpha\":{\"value\":0.1},\"size\":{\"value\":5},\"x\":{\"field\":\"x\"},\"y\":{\"field\":\"y\"}},\"id\":\"1250\",\"type\":\"Scatter\"},{\"attributes\":{},\"id\":\"1223\",\"type\":\"DataRange1d\"},{\"attributes\":{\"coordinates\":null,\"formatter\":{\"id\":\"1276\"},\"group\":null,\"major_label_policy\":{\"id\":\"1277\"},\"ticker\":{\"id\":\"1234\"}},\"id\":\"1233\",\"type\":\"LinearAxis\"}],\"root_ids\":[\"1218\"]},\"title\":\"Bokeh Application\",\"version\":\"2.4.2\"}};\n  const render_items = [{\"docid\":\"be4e518a-a386-4473-93a0-3acdf58f81a4\",\"root_ids\":[\"1218\"],\"roots\":{\"1218\":\"2f395203-d445-46a1-beb0-a76d518aad36\"}}];\n  root.Bokeh.embed.embed_items_notebook(docs_json, render_items);\n\n  }\n  if (root.Bokeh !== undefined) {\n    embed_document(root);\n  } else {\n    let attempts = 0;\n    const timer = setInterval(function(root) {\n      if (root.Bokeh !== undefined) {\n        clearInterval(timer);\n        embed_document(root);\n      } else {\n        attempts++;\n        if (attempts > 100) {\n          clearInterval(timer);\n          console.log(\"Bokeh: ERROR: Unable to run BokehJS code because BokehJS library is missing\");\n        }\n      }\n    }, 10, root)\n  }\n})(window);",
      "application/vnd.bokehjs_exec.v0+json": ""
     },
     "metadata": {
      "application/vnd.bokehjs_exec.v0+json": {
       "id": "1218"
      }
     },
     "output_type": "display_data"
    }
   ],
   "source": [
    "## Interactive t-SNE mapping using https://www.kaggle.com/maksimeren/covid-19-literature-clustering\n",
    "\n",
    "from bokeh.models import ColumnDataSource, HoverTool, LinearColorMapper\n",
    "from bokeh.palettes import Category20\n",
    "from bokeh.transform import linear_cmap\n",
    "from bokeh.io import output_file, show\n",
    "from bokeh.transform import transform\n",
    "from bokeh.io import output_notebook\n",
    "from bokeh.plotting import figure\n",
    "\n",
    "output_notebook()\n",
    "\n",
    "# data sources\n",
    "source = ColumnDataSource(data=dict(\n",
    "    x= merged_frame_rolled_up['tsne-2d-one'].values, \n",
    "    y= merged_frame_rolled_up['tsne-2d-two'].values, \n",
    "    desc= merged_frame_rolled_up['labels'].values, \n",
    "    titles= merged_frame_rolled_up['ID_Article'].values\n",
    "    ))\n",
    "\n",
    "# hover over information\n",
    "hover = HoverTool(tooltips=[\n",
    "    (\"Article:\", \"@titles\")\n",
    "])\n",
    "# map colors\n",
    "mapper = linear_cmap(field_name='desc', \n",
    "                     palette=Category20[len(merged_frame_rolled_up['labels'].unique())],\n",
    "                     low=min(merged_frame_rolled_up['labels'].values) ,high=max(merged_frame_rolled_up['labels'].values))\n",
    "#prepare the figure\n",
    "p = figure(plot_width=1000, plot_height=1000, \n",
    "           tools=[hover, 'pan', 'wheel_zoom', 'box_zoom', 'reset'], \n",
    "           title=\"Clustering German Articles Based on K Means and Word2Vec\", \n",
    "           toolbar_location=\"right\")\n",
    "# plot\n",
    "p.scatter('x', 'y', size=5, \n",
    "          source=source,\n",
    "          fill_color=mapper,\n",
    "          line_alpha=0.3,\n",
    "          line_color=\"black\")\n",
    "\n",
    "# output_file('plots/t-sne_covid-19_interactive.html')\n",
    "show(p)"
   ]
  },
  {
   "cell_type": "markdown",
   "id": "ea535397",
   "metadata": {},
   "source": [
    "# DOC2VEC"
   ]
  },
  {
   "cell_type": "code",
   "execution_count": null,
   "id": "c8ff1c68",
   "metadata": {},
   "outputs": [],
   "source": [
    "from gensim.test.utils import common_texts\n",
    "from gensim.models import Word2Vec\n",
    "from gensim.test.utils import common_texts\n",
    "from gensim.models.doc2vec import Doc2Vec, TaggedDocument"
   ]
  },
  {
   "cell_type": "code",
   "execution_count": null,
   "id": "17f1f7ea",
   "metadata": {},
   "outputs": [],
   "source": [
    "documents2 = tok_prepro_docs(documents)\n",
    "docs = [TaggedDocument(doc, [i]) for i, doc in enumerate(documents2)]"
   ]
  },
  {
   "cell_type": "code",
   "execution_count": null,
   "id": "885d5aea",
   "metadata": {},
   "outputs": [],
   "source": [
    "model = Word2Vec(sentences=documents2, vector_size=100, window=5, min_count=1, workers=4)"
   ]
  },
  {
   "cell_type": "code",
   "execution_count": null,
   "id": "8df89d2a",
   "metadata": {},
   "outputs": [],
   "source": [
    "# model = Word2Vec(docs, vector_size=5, min_count=1, workers=4)"
   ]
  },
  {
   "cell_type": "code",
   "execution_count": null,
   "id": "474cac81",
   "metadata": {},
   "outputs": [
    {
     "data": {
      "text/plain": [
       "[('rural', 0.9993464350700378),\n",
       " ('water', 0.9993060827255249),\n",
       " ('citizens', 0.9989604949951172),\n",
       " ('community', 0.9989265203475952),\n",
       " ('last', 0.9988541007041931),\n",
       " ('published', 0.9988427758216858),\n",
       " ('government', 0.9988110661506653),\n",
       " ('request', 0.9987709522247314),\n",
       " ('poisoning', 0.9987573027610779),\n",
       " ('protesters', 0.998754620552063),\n",
       " ('violent', 0.9987401366233826),\n",
       " ('caused', 0.9987359046936035),\n",
       " ('action', 0.998703122138977),\n",
       " ('near', 0.9986962080001831),\n",
       " ('meetings', 0.9986715316772461),\n",
       " ('contamination', 0.998660147190094),\n",
       " ('fear', 0.9986294507980347),\n",
       " ('became', 0.9986234903335571),\n",
       " ('tax', 0.9985954761505127),\n",
       " ('bring', 0.9985851049423218),\n",
       " ('continue', 0.9985740184783936),\n",
       " ('clean', 0.998572051525116),\n",
       " ('movement', 0.9985679984092712),\n",
       " ('environmental', 0.9985609650611877),\n",
       " ('bodrogi', 0.9985561966896057),\n",
       " ('fact', 0.9985492825508118),\n",
       " ('1998', 0.9985242486000061),\n",
       " ('organization', 0.9985092878341675),\n",
       " ('health', 0.9984865188598633),\n",
       " ('protests', 0.9984848499298096),\n",
       " ('benzene', 0.9984784722328186),\n",
       " ('pollution', 0.9984778761863708),\n",
       " ('tried', 0.998465359210968),\n",
       " ('year', 0.998460590839386),\n",
       " ('demonstrations', 0.9984596371650696),\n",
       " ('members', 0.9984498620033264),\n",
       " ('violence', 0.9984369277954102),\n",
       " ('increase', 0.9984204769134521),\n",
       " ('area', 0.9984201788902283),\n",
       " ('would', 0.9984158873558044),\n",
       " ('around', 0.9983952641487122),\n",
       " ('several', 0.9983877539634705),\n",
       " ('end', 0.9983823895454407),\n",
       " ('facilities', 0.9983702301979065),\n",
       " ('protest', 0.9983428716659546),\n",
       " ('charges', 0.9983416795730591),\n",
       " ('met', 0.9983369708061218),\n",
       " ('areas', 0.998310387134552),\n",
       " ('leaders', 0.9983055591583252),\n",
       " ('crowd', 0.9983043074607849)]"
      ]
     },
     "execution_count": 50,
     "metadata": {},
     "output_type": "execute_result"
    }
   ],
   "source": [
    "model.wv.most_similar('elodis', topn=50)"
   ]
  },
  {
   "cell_type": "code",
   "execution_count": null,
   "id": "b95e7ca5",
   "metadata": {},
   "outputs": [],
   "source": []
  },
  {
   "cell_type": "markdown",
   "id": "bc945965",
   "metadata": {},
   "source": [
    "# LSA"
   ]
  },
  {
   "cell_type": "code",
   "execution_count": null,
   "id": "7cfda710",
   "metadata": {},
   "outputs": [],
   "source": [
    "import os.path\n",
    "from gensim import corpora\n",
    "from gensim.models import LsiModel\n",
    "from nltk.tokenize import RegexpTokenizer\n",
    "from nltk.corpus import stopwords\n",
    "from nltk.stem.porter import PorterStemmer\n",
    "from gensim.models.coherencemodel import CoherenceModel\n",
    "import matplotlib.pyplot as plt"
   ]
  },
  {
   "cell_type": "code",
   "execution_count": null,
   "id": "87ada093",
   "metadata": {},
   "outputs": [],
   "source": [
    "texts = tok_prepro_docs(documents, True)"
   ]
  },
  {
   "cell_type": "code",
   "execution_count": null,
   "id": "3c2136b5",
   "metadata": {},
   "outputs": [],
   "source": [
    "def prepare_corpus(doc_clean):\n",
    "    \"\"\"\n",
    "    Input  : clean document\n",
    "    Purpose: create term dictionary of our courpus and Converting list of documents (corpus) into Document Term Matrix\n",
    "    Output : term dictionary and Document Term Matrix\n",
    "    \"\"\"\n",
    "    # Creating the term dictionary of our courpus, where every unique term is assigned an index. dictionary = corpora.Dictionary(doc_clean)\n",
    "    dictionary = corpora.Dictionary(doc_clean)\n",
    "    # Converting list of documents (corpus) into Document Term Matrix using dictionary prepared above.\n",
    "    doc_term_matrix = [dictionary.doc2bow(doc) for doc in doc_clean]\n",
    "    # generate LDA model\n",
    "    return dictionary,doc_term_matrix\n",
    "\n",
    "def create_gensim_lsa_model(doc_clean,number_of_topics,words):\n",
    "    \"\"\"\n",
    "    Input  : clean document, number of topics and number of words associated with each topic\n",
    "    Purpose: create LSA model using gensim\n",
    "    Output : return LSA model\n",
    "    \"\"\"\n",
    "    dictionary,doc_term_matrix=prepare_corpus(doc_clean)\n",
    "    # generate LSA model\n",
    "    lsamodel = LsiModel(doc_term_matrix, num_topics=number_of_topics, id2word = dictionary)  # train model\n",
    "#     print(lsamodel.print_topics(num_topics=number_of_topics, num_words=words))\n",
    "    return lsamodel\n",
    "\n",
    "def compute_coherence_values(dictionary, doc_term_matrix, doc_clean, stop, start=2, step=3):\n",
    "    \"\"\"\n",
    "    Input   : dictionary : Gensim dictionary\n",
    "              corpus : Gensim corpus\n",
    "              texts : List of input texts\n",
    "              stop : Max num of topics\n",
    "    purpose : Compute c_v coherence for various number of topics\n",
    "    Output  : model_list : List of LSA topic models\n",
    "              coherence_values : Coherence values corresponding to the LDA model with respective number of topics\n",
    "    \"\"\"\n",
    "    coherence_values = []\n",
    "    model_list = []\n",
    "    for number_of_topics in range(start, stop, step):\n",
    "        # generate LSA model\n",
    "        model = LsiModel(doc_term_matrix, num_topics=number_of_topics, id2word = dictionary)  # train model\n",
    "        model_list.append(model)\n",
    "        coherencemodel = CoherenceModel(model=model, texts=doc_clean, dictionary=dictionary, coherence='c_v')\n",
    "        coherence_values.append(coherencemodel.get_coherence())\n",
    "    return model_list, coherence_values\n",
    "\n",
    "def plot_graph(doc_clean,start, stop, step):\n",
    "    dictionary,doc_term_matrix=prepare_corpus(doc_clean)\n",
    "    model_list, coherence_values = compute_coherence_values(dictionary, doc_term_matrix,doc_clean,\n",
    "                                                            stop, start, step)\n",
    "    # Show graph\n",
    "    x = range(start, stop, step)\n",
    "    plt.plot(x, coherence_values)\n",
    "    plt.xlabel(\"Number of Topics\")\n",
    "    plt.ylabel(\"Coherence score\")\n",
    "    plt.legend((\"coherence_values\"), loc='best')\n",
    "    plt.show()"
   ]
  },
  {
   "cell_type": "code",
   "execution_count": null,
   "id": "e4c5384f",
   "metadata": {},
   "outputs": [],
   "source": [
    "dic, dtmatrix = prepare_corpus(texts)"
   ]
  },
  {
   "cell_type": "code",
   "execution_count": null,
   "id": "980872a2",
   "metadata": {
    "scrolled": true
   },
   "outputs": [],
   "source": [
    "# lsamod = create_gensim_lsa_model(texts, 9, 15)"
   ]
  },
  {
   "cell_type": "code",
   "execution_count": null,
   "id": "9419ba9a",
   "metadata": {},
   "outputs": [],
   "source": [
    "number_of_topics=4\n",
    "words=15\n",
    "model=create_gensim_lsa_model(texts, number_of_topics, words)"
   ]
  },
  {
   "cell_type": "code",
   "execution_count": null,
   "id": "0877ab86",
   "metadata": {},
   "outputs": [
    {
     "data": {
      "text/plain": [
       "[(0,\n",
       "  '-0.490*\"kronos\" + -0.373*\"gastech\" + -0.354*\"government\" + -0.222*\"pok\" + -0.186*\"gas\" + -0.174*\"police\" + -0.167*\"abila\" + -0.162*\"karel\" + -0.158*\"people\" + -0.125*\"water\" + -0.123*\"sanjorge\" + -0.110*\"years\" + -0.108*\"elodis\" + -0.097*\"company\" + -0.094*\"president\"'),\n",
       " (1,\n",
       "  '-0.448*\"gas\" + -0.363*\"gastech\" + 0.276*\"karel\" + -0.269*\"sanjorge\" + 0.262*\"pok\" + 0.242*\"police\" + -0.201*\"company\" + 0.153*\"government\" + -0.143*\"tethys\" + -0.134*\"energy\" + 0.133*\"death\" + -0.131*\"oil\" + 0.122*\"kronos\" + -0.114*\"jr\" + 0.107*\"abila\"'),\n",
       " (2,\n",
       "  '0.453*\"cotton\" + 0.389*\"drug\" + 0.289*\"bianca\" + 0.249*\"drugs\" + 0.193*\"people\" + -0.188*\"gastech\" + 0.156*\"designer\" + 0.144*\"candy\" + 0.142*\"department\" + 0.126*\"sugar\" + -0.121*\"pok\" + 0.113*\"years\" + 0.110*\"refinery\" + 0.105*\"caramel\" + 0.097*\"city\"'),\n",
       " (3,\n",
       "  '-0.474*\"gas\" + 0.374*\"gastech\" + -0.356*\"karel\" + 0.199*\"kronos\" + -0.191*\"oil\" + -0.180*\"death\" + -0.163*\"police\" + -0.146*\"years\" + -0.126*\"energy\" + -0.120*\"year\" + -0.103*\"city\" + 0.100*\"employees\" + 0.089*\"jr\" + -0.087*\"health\" + 0.086*\"fire\"')]"
      ]
     },
     "execution_count": 67,
     "metadata": {},
     "output_type": "execute_result"
    }
   ],
   "source": [
    "model.print_topics(num_topics=number_of_topics, num_words=words)"
   ]
  },
  {
   "cell_type": "code",
   "execution_count": null,
   "id": "27d555fd",
   "metadata": {},
   "outputs": [],
   "source": []
  },
  {
   "cell_type": "code",
   "execution_count": null,
   "id": "47b7d7f0",
   "metadata": {},
   "outputs": [],
   "source": []
  }
 ],
 "metadata": {
  "interpreter": {
   "hash": "0ebccceceeaa9687ec2d0e0a536e54b418e9941b3ef072e108a443e721432283"
  },
  "kernelspec": {
   "display_name": "Python 3.9.12 ('base')",
   "language": "python",
   "name": "python3"
  },
  "language_info": {
   "codemirror_mode": {
    "name": "ipython",
    "version": 3
   },
   "file_extension": ".py",
   "mimetype": "text/x-python",
   "name": "python",
   "nbconvert_exporter": "python",
   "pygments_lexer": "ipython3",
   "version": "3.9.12"
  }
 },
 "nbformat": 4,
 "nbformat_minor": 5
}
