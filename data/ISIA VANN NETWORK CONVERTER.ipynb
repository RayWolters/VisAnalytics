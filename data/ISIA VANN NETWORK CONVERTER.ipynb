{
 "cells": [
  {
   "cell_type": "code",
   "execution_count": 2,
   "metadata": {},
   "outputs": [],
   "source": [
    "import pandas as pd"
   ]
  },
  {
   "cell_type": "code",
   "execution_count": 3,
   "metadata": {},
   "outputs": [],
   "source": [
    "filepath_main = 'C:/Users/20183046/Documents/MASTER DS&AI/YEAR_1/Q3/2AMV10/3. Disappearance at GAStech/data/data/data/'\n",
    "df = pd.read_csv(filepath_main + 'email headers.csv', encoding='cp1252')\n",
    "df.Date = pd.to_datetime(df.Date)\n",
    "df.head()\n",
    "\n",
    "dffrom = list(df.From)\n",
    "dfto = list(df.To)\n",
    "dftone = []\n",
    "for row in dfto:\n",
    "    dftone.append(row.split(', '))\n",
    "\n",
    "dffrom2 = []\n",
    "for row in dffrom:\n",
    "    if row.split('@')[1] == \"gastech.com.tethys\":\n",
    "        dffrom2.append((row.split('@')[0].split('.')[0] + ' ' + row.split('@')[0].split('.')[1]) + ' (tethys)')\n",
    "    else:\n",
    "        dffrom2.append((row.split('@')[0].split('.')[0] + ' ' + row.split('@')[0].split('.')[1]))\n",
    "\n",
    "ef_to = []\n",
    "for row in dftone:\n",
    "    l = []\n",
    "    for name in row:\n",
    "        if name.split('@')[1] == \"gastech.com.tethys\":\n",
    "            l.append((name.split('@')[0].split('.')[0] + ' ' + name.split('@')[0].split('.')[1]) + ' (tethys)')\n",
    "        l.append((name.split('@')[0].split('.')[0] + ' ' + name.split('@')[0].split('.')[1]))\n",
    "    ef_to.append(l)\n",
    "df = pd.DataFrame({ 'from': dffrom2, 'to':ef_to, 'date': df.Date, 'subject':df.Subject})\n",
    "\n",
    "lst = df.values.tolist()\n",
    "\n",
    "for row in lst:\n",
    "    if row[0] == \"Isia Vann\":\n",
    "        isia_lst.append(row)\n",
    "    elif \"Isia Vann\" in row[1]:\n",
    "        isia_lst.append(row)\n",
    "    else:\n",
    "        continue\n",
    "        \n",
    "df = pd.DataFrame(isia_lst, columns=['source', 'target', 'time', 'subject'])\n",
    "\n",
    "df.to_csv(\"networks_isiavann.csv\")"
   ]
  },
  {
   "cell_type": "code",
   "execution_count": 6,
   "metadata": {},
   "outputs": [],
   "source": []
  },
  {
   "cell_type": "code",
   "execution_count": 25,
   "metadata": {},
   "outputs": [],
   "source": [
    "isia_lst = []"
   ]
  },
  {
   "cell_type": "code",
   "execution_count": 26,
   "metadata": {},
   "outputs": [],
   "source": [
    "for row in lst:\n",
    "    if row[0] == \"Isia Vann\":\n",
    "        isia_lst.append(row)\n",
    "    elif \"Isia Vann\" in row[1]:\n",
    "        isia_lst.append(row)\n",
    "    else:\n",
    "        continue"
   ]
  },
  {
   "cell_type": "code",
   "execution_count": 27,
   "metadata": {},
   "outputs": [
    {
     "data": {
      "text/plain": [
       "142"
      ]
     },
     "execution_count": 27,
     "metadata": {},
     "output_type": "execute_result"
    }
   ],
   "source": [
    "len(isia_lst)"
   ]
  },
  {
   "cell_type": "code",
   "execution_count": 28,
   "metadata": {},
   "outputs": [],
   "source": [
    "df = pd.DataFrame(isia_lst, columns=['source', 'target', 'time', 'subject'])"
   ]
  },
  {
   "cell_type": "code",
   "execution_count": 29,
   "metadata": {},
   "outputs": [],
   "source": [
    "df.to_csv(\"networks_isiavann.csv\")"
   ]
  },
  {
   "cell_type": "code",
   "execution_count": 30,
   "metadata": {},
   "outputs": [],
   "source": [
    "df = df.set_index('time')"
   ]
  },
  {
   "cell_type": "code",
   "execution_count": 33,
   "metadata": {},
   "outputs": [],
   "source": [
    "s = df.loc['2014-01-07 10:06:00'].source"
   ]
  },
  {
   "cell_type": "code",
   "execution_count": 35,
   "metadata": {},
   "outputs": [],
   "source": [
    "t = df.loc['2014-01-07 10:06:00'].target"
   ]
  },
  {
   "cell_type": "code",
   "execution_count": 37,
   "metadata": {},
   "outputs": [
    {
     "name": "stdout",
     "output_type": "stream",
     "text": [
      "Isia Vann Rachel Pantanal\n"
     ]
    }
   ],
   "source": [
    "for target in t:\n",
    "    print(s, target)"
   ]
  },
  {
   "cell_type": "code",
   "execution_count": 39,
   "metadata": {},
   "outputs": [
    {
     "data": {
      "text/html": [
       "<div>\n",
       "<style scoped>\n",
       "    .dataframe tbody tr th:only-of-type {\n",
       "        vertical-align: middle;\n",
       "    }\n",
       "\n",
       "    .dataframe tbody tr th {\n",
       "        vertical-align: top;\n",
       "    }\n",
       "\n",
       "    .dataframe thead th {\n",
       "        text-align: right;\n",
       "    }\n",
       "</style>\n",
       "<table border=\"1\" class=\"dataframe\">\n",
       "  <thead>\n",
       "    <tr style=\"text-align: right;\">\n",
       "      <th></th>\n",
       "      <th>source</th>\n",
       "      <th>target</th>\n",
       "      <th>subject</th>\n",
       "    </tr>\n",
       "    <tr>\n",
       "      <th>time</th>\n",
       "      <th></th>\n",
       "      <th></th>\n",
       "      <th></th>\n",
       "    </tr>\n",
       "  </thead>\n",
       "  <tbody>\n",
       "    <tr>\n",
       "      <th>2014-01-06 08:58:00</th>\n",
       "      <td>Kanon Herrero</td>\n",
       "      <td>[Felix Resumir, Hideki Cocinaro, Inga Ferro, V...</td>\n",
       "      <td>Inspection request for site</td>\n",
       "    </tr>\n",
       "    <tr>\n",
       "      <th>2014-01-06 09:49:00</th>\n",
       "      <td>Mat Bramar</td>\n",
       "      <td>[Rachel Pantanal, Lars Azada, Felix Balas, Isa...</td>\n",
       "      <td>Upcoming birthdays</td>\n",
       "    </tr>\n",
       "    <tr>\n",
       "      <th>2014-01-06 11:00:00</th>\n",
       "      <td>Linnea Bergen</td>\n",
       "      <td>[Rachel Pantanal, Lars Azada, Felix Balas, Isa...</td>\n",
       "      <td>RE: Upcoming birthdays</td>\n",
       "    </tr>\n",
       "    <tr>\n",
       "      <th>2014-01-06 11:16:00</th>\n",
       "      <td>Linnea Bergen</td>\n",
       "      <td>[Rachel Pantanal, Lars Azada, Felix Balas, Isa...</td>\n",
       "      <td>RE: Upcoming birthdays</td>\n",
       "    </tr>\n",
       "    <tr>\n",
       "      <th>2014-01-06 13:08:00</th>\n",
       "      <td>Felix Resumir</td>\n",
       "      <td>[Felix Resumir, Hideki Cocinaro, Inga Ferro, V...</td>\n",
       "      <td>RE: Inspection request for site</td>\n",
       "    </tr>\n",
       "  </tbody>\n",
       "</table>\n",
       "</div>"
      ],
      "text/plain": [
       "                            source  \\\n",
       "time                                 \n",
       "2014-01-06 08:58:00  Kanon Herrero   \n",
       "2014-01-06 09:49:00     Mat Bramar   \n",
       "2014-01-06 11:00:00  Linnea Bergen   \n",
       "2014-01-06 11:16:00  Linnea Bergen   \n",
       "2014-01-06 13:08:00  Felix Resumir   \n",
       "\n",
       "                                                                target  \\\n",
       "time                                                                     \n",
       "2014-01-06 08:58:00  [Felix Resumir, Hideki Cocinaro, Inga Ferro, V...   \n",
       "2014-01-06 09:49:00  [Rachel Pantanal, Lars Azada, Felix Balas, Isa...   \n",
       "2014-01-06 11:00:00  [Rachel Pantanal, Lars Azada, Felix Balas, Isa...   \n",
       "2014-01-06 11:16:00  [Rachel Pantanal, Lars Azada, Felix Balas, Isa...   \n",
       "2014-01-06 13:08:00  [Felix Resumir, Hideki Cocinaro, Inga Ferro, V...   \n",
       "\n",
       "                                             subject  \n",
       "time                                                  \n",
       "2014-01-06 08:58:00      Inspection request for site  \n",
       "2014-01-06 09:49:00               Upcoming birthdays  \n",
       "2014-01-06 11:00:00           RE: Upcoming birthdays  \n",
       "2014-01-06 11:16:00           RE: Upcoming birthdays  \n",
       "2014-01-06 13:08:00  RE: Inspection request for site  "
      ]
     },
     "execution_count": 39,
     "metadata": {},
     "output_type": "execute_result"
    }
   ],
   "source": [
    "df.head()"
   ]
  }
 ],
 "metadata": {
  "kernelspec": {
   "display_name": "Python 3",
   "language": "python",
   "name": "python3"
  },
  "language_info": {
   "codemirror_mode": {
    "name": "ipython",
    "version": 3
   },
   "file_extension": ".py",
   "mimetype": "text/x-python",
   "name": "python",
   "nbconvert_exporter": "python",
   "pygments_lexer": "ipython3",
   "version": "3.7.3"
  }
 },
 "nbformat": 4,
 "nbformat_minor": 4
}
